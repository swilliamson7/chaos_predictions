{
 "cells": [
  {
   "cell_type": "code",
   "execution_count": 22,
   "id": "b6c88f8c",
   "metadata": {},
   "outputs": [],
   "source": [
    "import numpy as np\n",
    "import matplotlib as mpl\n",
    "import matplotlib.pyplot as plt\n",
    "mpl.rc('text', usetex = True)\n",
    "mpl.rc('font', family = 'serif')\n",
    "import warnings\n",
    "from scipy.integrate import odeint\n",
    "import torch\n",
    "from mlp import MLP\n",
    "from experiment import *\n",
    "from data import *\n",
    "plt.rcParams[\"figure.figsize\"] = [16,9]\n",
    "# https://journals.aps.org/pre/pdf/10.1103/PhysRevE.54.3545\n",
    "# some function structures based on https://github.com/erikdao/mlp-timeseries/blob/master/data.py\n",
    "#warnings.filterwarnings('ignore')"
   ]
  },
  {
   "cell_type": "code",
   "execution_count": 16,
   "id": "4d85da69",
   "metadata": {},
   "outputs": [],
   "source": [
    "def pendulum(stateIn, t, beta, gamma, wD, w0):\n",
    "        \"\"\"\n",
    "        pendulum state equation\n",
    "        \"\"\"\n",
    "        w, theta = stateIn\n",
    "        stateOut = np.array([-2*beta*w - w0**2*np.sin(theta) + gamma*w0**2*np.cos(wD*t), w])\n",
    "        return stateOut\n",
    "    \n",
    "def run_pendulum(tmax=10, nt=500, beta=3*np.pi/4, gamma=1.01, wD=2*np.pi, w0=3*np.pi, wInit=0, thetaInit=0):\n",
    "    t=np.linspace(0,tmax,nt)\n",
    "    f = odeint(pendulum, (wInit, thetaInit), t, args=(beta, gamma, wD, w0))\n",
    "    _, theta=f.T\n",
    "    return t,theta\n",
    "\n",
    "\n",
    "def generate_dataset(nData=300, train_test_split=0.5, tmax=10, nt=500):\n",
    "    # create randomly perturbed initial conditions wInit, thetaInit\n",
    "    wInitMu, wInitSigma = 0, 0.01\n",
    "    wInitRnd=np.random.normal(wInitMu, wInitSigma, nData)\n",
    "    thetaInitMu, thetaInitSigma = 0, 0.01\n",
    "    thetaInitRnd=np.random.normal(thetaInitMu, thetaInitSigma, nData)\n",
    "    \n",
    "    # create randomly perturbed values for parameters beta, gamma, wD, w0\n",
    "    betaMu, betaSigma = 3*np.pi/4, 0.1\n",
    "    betaRnd=np.random.normal(betaMu, betaSigma, nData)\n",
    "    gammaMu, gammaSigma = 1.01, 0.03\n",
    "    gammaRnd=np.random.normal(gammaMu, gammaSigma, nData)\n",
    "    wDMu, wDSigma = 2*np.pi, 0.1\n",
    "    wDRnd=np.random.normal(wDMu, wDSigma, nData)\n",
    "    w0Mu, w0Sigma = 3*np.pi, 0.1\n",
    "    w0Rnd=np.random.normal(w0Mu, w0Sigma, nData)\n",
    "\n",
    "\n",
    "    # create dataset with nData \"points\" (each point is a time series of length nt)\n",
    "    dataset=np.empty([nData, nt])\n",
    "    params=np.empty([nData, 6])\n",
    "    \n",
    "    for i in range(nData):\n",
    "        params[i]=np.array([betaRnd[i], gammaRnd[i], wDRnd[i], w0Rnd[i], wInitRnd[i], thetaInitRnd[i]])\n",
    "        _, theta=run_pendulum(tmax, nt, betaRnd[i], gammaRnd[i], wDRnd[i], w0Rnd[i], wInitRnd[i], thetaInitRnd[i])\n",
    "        dataset[i]=theta\n",
    "    return params, dataset\n",
    "    \n",
    "    \n",
    "def split_dataset(inputs, outputs, n_train=80, n_val=100, n_test=120):\n",
    "    X_train = inputs[:n_train]\n",
    "    X_val = inputs[n_train:n_val]\n",
    "    X_test = inputs[n_val:n_test]\n",
    "\n",
    "    y_train = outputs[:n_train]\n",
    "    y_val = outputs[n_train:n_val]\n",
    "    y_test = outputs[n_val:n_test]\n",
    "\n",
    "    return (X_train, y_train), (X_val, y_val), (X_test, y_test)\n",
    "\n",
    "\n",
    "def create_dataset():\n",
    "    params, dataset = generate_dataset()\n",
    "    (X_train, y_train), (X_val, y_val), (X_test, y_test) = split_dataset(params, dataset)\n",
    "\n",
    "    return (X_train, y_train), (X_val, y_val), (X_test, y_test)\n",
    "\n",
    "def create_pytorch_loader(X, y, batch_size=100, shuffle=True):\n",
    "    params = torch.from_numpy(X.astype('float32'))\n",
    "    data = torch.from_numpy(y.astype('float32'))\n",
    "\n",
    "    dataset = data_utils.TensorDataset(params, data)\n",
    "    dataloader = data_utils.DataLoader(dataset, batch_size=batch_size, shuffle=shuffle)\n",
    "    return dataloader\n",
    "\n",
    "def create_pytorch_data(batch_size=100):\n",
    "    (X_train, y_train), (X_val, y_val), (X_test, y_test) = create_dataset()\n",
    "    train_loader = create_pytorch_loader(X_train, y_train, batch_size=batch_size, shuffle=True)\n",
    "    val_loader = create_pytorch_loader(X_val, y_val, batch_size=batch_size*2, shuffle=False)\n",
    "    test_loader = create_pytorch_loader(X_test, y_test, batch_size=batch_size*2, shuffle=False)\n",
    "\n",
    "    return train_loader, val_loader, test_loader\n"
   ]
  },
  {
   "cell_type": "code",
   "execution_count": 57,
   "id": "dd6b5e47",
   "metadata": {},
   "outputs": [],
   "source": [
    "(X_train, y_train), (X_val, y_val), (X_test, y_test) = create_dataset()"
   ]
  },
  {
   "cell_type": "code",
   "execution_count": 11,
   "id": "cf3dab85",
   "metadata": {},
   "outputs": [
    {
     "ename": "TypeError",
     "evalue": "'NoneType' object is not iterable",
     "output_type": "error",
     "traceback": [
      "\u001b[0;31m---------------------------------------------------------------------------\u001b[0m",
      "\u001b[0;31mTypeError\u001b[0m                                 Traceback (most recent call last)",
      "\u001b[0;32m<ipython-input-11-ceecea5c8f2d>\u001b[0m in \u001b[0;36m<module>\u001b[0;34m\u001b[0m\n\u001b[0;32m----> 1\u001b[0;31m \u001b[0mmodel\u001b[0m \u001b[0;34m=\u001b[0m \u001b[0mMLP\u001b[0m\u001b[0;34m(\u001b[0m\u001b[0;34m)\u001b[0m\u001b[0;34m\u001b[0m\u001b[0;34m\u001b[0m\u001b[0m\n\u001b[0m",
      "\u001b[0;32m~/Projects/CSEM/research/CRIOS/chaos_predictions/neuralnets/mlp.py\u001b[0m in \u001b[0;36m__init__\u001b[0;34m(self, hidden_params, configs)\u001b[0m\n\u001b[1;32m     18\u001b[0m \u001b[0;34m\u001b[0m\u001b[0m\n\u001b[1;32m     19\u001b[0m         \u001b[0mlayers\u001b[0m \u001b[0;34m=\u001b[0m \u001b[0mOrderedDict\u001b[0m\u001b[0;34m(\u001b[0m\u001b[0;34m)\u001b[0m\u001b[0;34m\u001b[0m\u001b[0;34m\u001b[0m\u001b[0m\n\u001b[0;32m---> 20\u001b[0;31m         \u001b[0;32mfor\u001b[0m \u001b[0midx\u001b[0m\u001b[0;34m,\u001b[0m \u001b[0mparams\u001b[0m \u001b[0;32min\u001b[0m \u001b[0menumerate\u001b[0m\u001b[0;34m(\u001b[0m\u001b[0mhidden_params\u001b[0m\u001b[0;34m)\u001b[0m\u001b[0;34m:\u001b[0m\u001b[0;34m\u001b[0m\u001b[0;34m\u001b[0m\u001b[0m\n\u001b[0m\u001b[1;32m     21\u001b[0m             \u001b[0mlinear_name\u001b[0m \u001b[0;34m=\u001b[0m \u001b[0;34mf'linear_{idx+1}'\u001b[0m\u001b[0;34m\u001b[0m\u001b[0;34m\u001b[0m\u001b[0m\n\u001b[1;32m     22\u001b[0m             \u001b[0mlayers\u001b[0m\u001b[0;34m[\u001b[0m\u001b[0mlinear_name\u001b[0m\u001b[0;34m]\u001b[0m \u001b[0;34m=\u001b[0m \u001b[0mnn\u001b[0m\u001b[0;34m.\u001b[0m\u001b[0mLinear\u001b[0m\u001b[0;34m(\u001b[0m\u001b[0;34m*\u001b[0m\u001b[0mparams\u001b[0m\u001b[0;34m,\u001b[0m \u001b[0mbias\u001b[0m\u001b[0;34m=\u001b[0m\u001b[0;32mTrue\u001b[0m\u001b[0;34m)\u001b[0m\u001b[0;34m\u001b[0m\u001b[0;34m\u001b[0m\u001b[0m\n",
      "\u001b[0;31mTypeError\u001b[0m: 'NoneType' object is not iterable"
     ]
    }
   ],
   "source": [
    "model = MLP()\n"
   ]
  },
  {
   "cell_type": "code",
   "execution_count": 31,
   "id": "d7ad2d2f",
   "metadata": {},
   "outputs": [],
   "source": [
    "dataset=np.empty([5, 10])"
   ]
  },
  {
   "cell_type": "code",
   "execution_count": 23,
   "id": "23186e59",
   "metadata": {},
   "outputs": [
    {
     "ename": "NameError",
     "evalue": "name 'create_pytorch_data' is not defined",
     "output_type": "error",
     "traceback": [
      "\u001b[0;31m---------------------------------------------------------------------------\u001b[0m",
      "\u001b[0;31mNameError\u001b[0m                                 Traceback (most recent call last)",
      "\u001b[0;32m<ipython-input-23-67f99fe90d9a>\u001b[0m in \u001b[0;36m<module>\u001b[0;34m\u001b[0m\n\u001b[0;32m----> 1\u001b[0;31m \u001b[0mgrid_search_network\u001b[0m\u001b[0;34m(\u001b[0m\u001b[0;34m)\u001b[0m\u001b[0;34m\u001b[0m\u001b[0;34m\u001b[0m\u001b[0m\n\u001b[0m",
      "\u001b[0;32m~/Projects/CSEM/research/CRIOS/chaos_predictions/neuralnets/experiment.py\u001b[0m in \u001b[0;36mgrid_search_network\u001b[0;34m()\u001b[0m\n\u001b[1;32m     81\u001b[0m         \u001b[0msetattr\u001b[0m\u001b[0;34m(\u001b[0m\u001b[0mconfig\u001b[0m\u001b[0;34m,\u001b[0m \u001b[0;34m'hidden_params'\u001b[0m\u001b[0;34m,\u001b[0m \u001b[0mhp\u001b[0m\u001b[0;34m)\u001b[0m\u001b[0;34m\u001b[0m\u001b[0;34m\u001b[0m\u001b[0m\n\u001b[1;32m     82\u001b[0m         \u001b[0mcreate_exp_dir\u001b[0m\u001b[0;34m(\u001b[0m\u001b[0mtask_name\u001b[0m\u001b[0;34m=\u001b[0m\u001b[0mconfig\u001b[0m\u001b[0;34m.\u001b[0m\u001b[0mtask_name\u001b[0m\u001b[0;34m,\u001b[0m \u001b[0mexperiment_name\u001b[0m\u001b[0;34m=\u001b[0m\u001b[0mconfig\u001b[0m\u001b[0;34m.\u001b[0m\u001b[0mexperiment_name\u001b[0m\u001b[0;34m)\u001b[0m\u001b[0;34m\u001b[0m\u001b[0;34m\u001b[0m\u001b[0m\n\u001b[0;32m---> 83\u001b[0;31m         \u001b[0mlosses\u001b[0m \u001b[0;34m=\u001b[0m \u001b[0mrun_experiment\u001b[0m\u001b[0;34m(\u001b[0m\u001b[0mconfig\u001b[0m\u001b[0;34m)\u001b[0m\u001b[0;34m\u001b[0m\u001b[0;34m\u001b[0m\u001b[0m\n\u001b[0m\u001b[1;32m     84\u001b[0m \u001b[0;34m\u001b[0m\u001b[0m\n\u001b[1;32m     85\u001b[0m         \u001b[0mgrid_search_result\u001b[0m\u001b[0;34m.\u001b[0m\u001b[0mappend\u001b[0m\u001b[0;34m(\u001b[0m\u001b[0;34m{\u001b[0m\u001b[0;34m'nh1'\u001b[0m\u001b[0;34m:\u001b[0m \u001b[0mn1\u001b[0m\u001b[0;34m,\u001b[0m \u001b[0;34m'nh2'\u001b[0m\u001b[0;34m:\u001b[0m \u001b[0mn2\u001b[0m\u001b[0;34m,\u001b[0m \u001b[0;34m**\u001b[0m\u001b[0mlosses\u001b[0m\u001b[0;34m}\u001b[0m\u001b[0;34m)\u001b[0m\u001b[0;34m\u001b[0m\u001b[0;34m\u001b[0m\u001b[0m\n",
      "\u001b[0;32m~/Projects/CSEM/research/CRIOS/chaos_predictions/neuralnets/experiment.py\u001b[0m in \u001b[0;36mrun_experiment\u001b[0;34m(config)\u001b[0m\n\u001b[1;32m    173\u001b[0m \u001b[0;34m\u001b[0m\u001b[0m\n\u001b[1;32m    174\u001b[0m     \u001b[0;31m# 2. Load the datasets\u001b[0m\u001b[0;34m\u001b[0m\u001b[0;34m\u001b[0m\u001b[0;34m\u001b[0m\u001b[0m\n\u001b[0;32m--> 175\u001b[0;31m     \u001b[0mtrain_loader\u001b[0m\u001b[0;34m,\u001b[0m \u001b[0mval_loader\u001b[0m\u001b[0;34m,\u001b[0m \u001b[0mtest_loader\u001b[0m \u001b[0;34m=\u001b[0m \u001b[0mcreate_pytorch_data\u001b[0m\u001b[0;34m(\u001b[0m\u001b[0;34m)\u001b[0m\u001b[0;34m\u001b[0m\u001b[0;34m\u001b[0m\u001b[0m\n\u001b[0m\u001b[1;32m    176\u001b[0m \u001b[0;34m\u001b[0m\u001b[0m\n\u001b[1;32m    177\u001b[0m     \u001b[0;31m# 3. Setup checkpoint params\u001b[0m\u001b[0;34m\u001b[0m\u001b[0;34m\u001b[0m\u001b[0;34m\u001b[0m\u001b[0m\n",
      "\u001b[0;31mNameError\u001b[0m: name 'create_pytorch_data' is not defined"
     ]
    }
   ],
   "source": [
    "grid_search_network()"
   ]
  },
  {
   "cell_type": "code",
   "execution_count": 32,
   "id": "b12ede84",
   "metadata": {},
   "outputs": [],
   "source": [
    "dataset[0]=np.linspace(0,1,10)"
   ]
  },
  {
   "cell_type": "code",
   "execution_count": 33,
   "id": "13680a62",
   "metadata": {},
   "outputs": [
    {
     "data": {
      "text/plain": [
       "array([[ 0.00000000e+000,  1.11111111e-001,  2.22222222e-001,\n",
       "         3.33333333e-001,  4.44444444e-001,  5.55555556e-001,\n",
       "         6.66666667e-001,  7.77777778e-001,  8.88888889e-001,\n",
       "         1.00000000e+000],\n",
       "       [ 4.27197409e+096,  7.29111968e-304,  3.68935022e+019,\n",
       "         7.29111856e-304,  4.27197409e+096,  7.29111968e-304,\n",
       "         3.68935022e+019,  7.41841609e-068,  3.68934883e+019,\n",
       "         7.29112015e-304],\n",
       "       [ 7.29111856e-304,  7.41841609e-068,  3.68934883e+019,\n",
       "        -2.87284961e-188,  7.29111922e-304, -2.48104089e-265,\n",
       "         7.29111856e-304, -2.87284836e-188,  7.29111922e-304,\n",
       "        -2.48104089e-265],\n",
       "       [ 3.68935070e+019,  3.68934883e+019,  7.29112040e-304,\n",
       "         7.29111856e-304,  3.68935070e+019,  3.68934883e+019,\n",
       "         4.27197625e+096,  7.29111968e-304,  3.68935022e+019,\n",
       "         7.29111856e-304],\n",
       "       [ 4.27197409e+096,  7.29111968e-304,  3.68935022e+019,\n",
       "         2.46006312e+260,  2.46006374e+260,  7.29111856e-304,\n",
       "         7.29112108e-304,  2.46006312e+260,  2.46006374e+260,\n",
       "         3.54566824e-308]])"
      ]
     },
     "execution_count": 33,
     "metadata": {},
     "output_type": "execute_result"
    }
   ],
   "source": [
    "dataset"
   ]
  },
  {
   "cell_type": "code",
   "execution_count": null,
   "id": "89071442",
   "metadata": {},
   "outputs": [],
   "source": []
  }
 ],
 "metadata": {
  "kernelspec": {
   "display_name": "Python 3",
   "language": "python",
   "name": "python3"
  },
  "language_info": {
   "codemirror_mode": {
    "name": "ipython",
    "version": 3
   },
   "file_extension": ".py",
   "mimetype": "text/x-python",
   "name": "python",
   "nbconvert_exporter": "python",
   "pygments_lexer": "ipython3",
   "version": "3.8.11"
  }
 },
 "nbformat": 4,
 "nbformat_minor": 5
}
