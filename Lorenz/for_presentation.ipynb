{
 "cells": [
  {
   "cell_type": "code",
   "execution_count": 1,
   "id": "39a4cd7f",
   "metadata": {},
   "outputs": [
    {
     "data": {
      "text/plain": [
       "adjoint (generic function with 1 method)"
      ]
     },
     "execution_count": 1,
     "metadata": {},
     "output_type": "execute_result"
    }
   ],
   "source": [
    "using Plots\n",
    "\n",
    "include(\"lorenz_model.jl\")"
   ]
  },
  {
   "cell_type": "code",
   "execution_count": 15,
   "id": "2c09121e",
   "metadata": {},
   "outputs": [],
   "source": [
    "rho = 28.0\n",
    "sigma = 10.5\n",
    "beta = 8/3\n",
    "\n",
    "T = 500\n",
    "\n",
    "all_states = zeros(3, T)\n",
    "all_states[:, 1] = [1.0, 0.0, 0.0]\n",
    "\n",
    "for j = 2:T\n",
    "    out = zeros(3)\n",
    "    forward_step(out, 0.01, all_states[:, j-1], rho, sigma, beta) \n",
    "    all_states[:, j] = out\n",
    "end\n"
   ]
  },
  {
   "cell_type": "code",
   "execution_count": 18,
   "id": "25b75e1b",
   "metadata": {},
   "outputs": [],
   "source": [
    "tensteps = plot(all_states[1,:], all_states[2,:],all_states[3,:], \n",
    "    label = \"\", title = \"sigma = 10.5\", xlabel = \"x\", ylabel = \"y\", zlabel = \"z\", dpi = 300)\n",
    "\n",
    "savefig(tensteps, \"sigma105.png\")"
   ]
  },
  {
   "cell_type": "code",
   "execution_count": 8,
   "id": "456596ae",
   "metadata": {},
   "outputs": [],
   "source": [
    "tensteps = plot(all_states[1,:], all_states[2,:],all_states[3,:], \n",
    "    label = \"\", title = \"100 steps\", xlabel = \"x\", ylabel = \"y\", zlabel = \"z\", dpi = 300)\n",
    "\n",
    "savefig(tensteps, \"100steps.png\")"
   ]
  },
  {
   "cell_type": "code",
   "execution_count": 10,
   "id": "14dca214",
   "metadata": {},
   "outputs": [],
   "source": [
    "tensteps = plot(all_states[1,:], all_states[2,:],all_states[3,:], \n",
    "    label = \"\", title = \"500 steps\", xlabel = \"x\", ylabel = \"y\", zlabel = \"z\", dpi = 300)\n",
    "\n",
    "savefig(tensteps, \"500steps.png\")"
   ]
  },
  {
   "cell_type": "code",
   "execution_count": 12,
   "id": "edea3ee5",
   "metadata": {},
   "outputs": [],
   "source": [
    "tensteps = plot(all_states[1,:], all_states[2,:],all_states[3,:], \n",
    "    label = \"\", title = \"1000 steps\", xlabel = \"x\", ylabel = \"y\", zlabel = \"z\", dpi = 300)\n",
    "\n",
    "savefig(tensteps, \"1000steps.png\")"
   ]
  },
  {
   "cell_type": "code",
   "execution_count": null,
   "id": "b2b96350",
   "metadata": {},
   "outputs": [],
   "source": []
  }
 ],
 "metadata": {
  "kernelspec": {
   "display_name": "Julia 1.8.0",
   "language": "julia",
   "name": "julia-1.8"
  },
  "language_info": {
   "file_extension": ".jl",
   "mimetype": "application/julia",
   "name": "julia",
   "version": "1.8.0"
  }
 },
 "nbformat": 4,
 "nbformat_minor": 5
}
